{
 "cells": [
  {
   "cell_type": "code",
   "execution_count": 1,
   "id": "b93efee1-146b-42db-bc74-86b52ca93c79",
   "metadata": {},
   "outputs": [],
   "source": [
    "from packages import *\n",
    "from classes import *\n",
    "from functions import *"
   ]
  },
  {
   "cell_type": "code",
   "execution_count": 2,
   "id": "1ad9fc9a-ffdd-426a-ae68-e8c5e5841cc9",
   "metadata": {},
   "outputs": [],
   "source": [
    "domino = Domino(\n",
    "    api_host = os.getenv('DOMINO_API_HOST'),\n",
    "    api_key = os.getenv('DOMINO_USER_API_KEY')\n",
    ")\n",
    "\n",
    "### Vars and log settings\n",
    "project_name = os.getenv('DOMINO_PROJECT_NAME')\n",
    "project_id = os.getenv('DOMINO_PROJECT_ID')\n",
    "api_host = os.getenv('DOMINO_API_HOST')\n",
    "api_key = os.getenv('DOMINO_USER_API_KEY')\n",
    "\n",
    "config = configparser.ConfigParser()\n",
    "config.optionxform=str\n",
    "config.read('report_config.ini')\n",
    "column_order = config['column_order']\n",
    "\n",
    "columns_to_expand = ['stageTime', 'startedBy', 'commitDetails', 'statuses', 'environment', 'startState', 'endState']\n",
    "columns_to_datetime = ['stageTime-submissionTime', 'stageTime-runStartTime', 'stageTime-completedTime']\n",
    "column_order = config['column_order']"
   ]
  },
  {
   "cell_type": "code",
   "execution_count": 5,
   "id": "af50a55a-71c8-4f51-bfce-0561529b6ba6",
   "metadata": {},
   "outputs": [],
   "source": [
    "job_ids = get_jobs(domino, project_id)\n",
    "goals = get_goals(domino, project_id)\n",
    "jobs_raw = aggregate_job_data(domino, job_ids, parallelize=True)"
   ]
  },
  {
   "cell_type": "code",
   "execution_count": 7,
   "id": "fccbaa29-42d9-4408-9f7c-1382a7d412c8",
   "metadata": {},
   "outputs": [],
   "source": [
    "jobs = clean_jobs(jobs_raw, columns_to_expand, column_order, columns_to_datetime, goals, project_name)"
   ]
  },
  {
   "cell_type": "code",
   "execution_count": 21,
   "id": "60c947f6-e7e4-4343-b059-5472f5256a6f",
   "metadata": {},
   "outputs": [],
   "source": [
    "jobs_raw = aggregate_job_data(domino, job_ids, parallelize=True)"
   ]
  },
  {
   "cell_type": "code",
   "execution_count": null,
   "id": "e0e1dd5f-46da-4ae7-a81e-9923ecd62645",
   "metadata": {},
   "outputs": [],
   "source": []
  },
  {
   "cell_type": "code",
   "execution_count": null,
   "id": "ffa76332-6abe-40de-b22d-d2343f8ced8b",
   "metadata": {},
   "outputs": [],
   "source": []
  },
  {
   "cell_type": "code",
   "execution_count": null,
   "id": "57d092d3-f6b9-41e3-a04f-bc25c92869c2",
   "metadata": {},
   "outputs": [],
   "source": []
  },
  {
   "cell_type": "code",
   "execution_count": null,
   "id": "3decf3e0-70e5-4422-bc67-9a09dd15128b",
   "metadata": {},
   "outputs": [],
   "source": []
  },
  {
   "cell_type": "code",
   "execution_count": null,
   "id": "bcaf6ca0-b449-4de2-aabe-55a2e3d14dad",
   "metadata": {},
   "outputs": [],
   "source": []
  }
 ],
 "metadata": {
  "kernelspec": {
   "display_name": "Python 3 (ipykernel)",
   "language": "python",
   "name": "python3"
  },
  "language_info": {
   "codemirror_mode": {
    "name": "ipython",
    "version": 3
   },
   "file_extension": ".py",
   "mimetype": "text/x-python",
   "name": "python",
   "nbconvert_exporter": "python",
   "pygments_lexer": "ipython3",
   "version": "3.8.12"
  }
 },
 "nbformat": 4,
 "nbformat_minor": 5
}
